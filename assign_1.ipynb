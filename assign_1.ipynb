{
 "cells": [
  {
   "cell_type": "code",
   "execution_count": 1,
   "id": "947da630-0fcf-4119-a6b6-f70372bb69d1",
   "metadata": {},
   "outputs": [
    {
     "name": "stdout",
     "output_type": "stream",
     "text": [
      "22.0\n"
     ]
    }
   ],
   "source": [
    "# 1. Convert a integer to a floatig-poit number.\n",
    "num =22\n",
    "floating = float(22)\n",
    "print(floating)"
   ]
  },
  {
   "cell_type": "code",
   "execution_count": 4,
   "id": "ede40c10-ba67-4619-b3fa-fdad39ea0ba9",
   "metadata": {},
   "outputs": [
    {
     "name": "stdout",
     "output_type": "stream",
     "text": [
      "3\n"
     ]
    }
   ],
   "source": [
    "# 2.Convert a float to a integer.\n",
    "float_num = 3.14962\n",
    "num = int(float_num)\n",
    "print(num)"
   ]
  },
  {
   "cell_type": "code",
   "execution_count": 5,
   "id": "9195b23e-6ecc-48af-8834-afbdf3dcd47c",
   "metadata": {},
   "outputs": [
    {
     "name": "stdout",
     "output_type": "stream",
     "text": [
      "24\n",
      "<class 'str'>\n"
     ]
    }
   ],
   "source": [
    "# 3.Convert a integer to a string.\n",
    "num = 24\n",
    "string = str(num)\n",
    "print(string)"
   ]
  },
  {
   "cell_type": "code",
   "execution_count": 17,
   "id": "e04ee7cf-24fe-49e7-ac56-8d1178b65306",
   "metadata": {},
   "outputs": [
    {
     "name": "stdout",
     "output_type": "stream",
     "text": [
      "(2, 3, 4, 5, 6, 7)\n"
     ]
    }
   ],
   "source": [
    "# 4.Convert a list to a tuple.\n",
    "my_list = [2,3,4,5,6,7]\n",
    "tuples = tuple(my_list)\n",
    "print(tuples)"
   ]
  },
  {
   "cell_type": "code",
   "execution_count": 19,
   "id": "0ea77d56-55d0-4748-b00d-a809ed3d1181",
   "metadata": {},
   "outputs": [
    {
     "name": "stdout",
     "output_type": "stream",
     "text": [
      "[1, 2, 3, 4, 56, 4]\n"
     ]
    }
   ],
   "source": [
    "# 5.Convert a tuole to a list.\n",
    "my_tuple = (1,2,3,4,56,4)\n",
    "my_list = list(my_tuple)\n",
    "print(my_list)"
   ]
  },
  {
   "cell_type": "code",
   "execution_count": 20,
   "id": "e9511c77-1ce7-43e1-b91a-a9731a42b77d",
   "metadata": {},
   "outputs": [
    {
     "name": "stdout",
     "output_type": "stream",
     "text": [
      "0b110\n"
     ]
    }
   ],
   "source": [
    "# 6.Convert a decimal number to binary.\n",
    "decimal_no = 6\n",
    "binary_no = bin(decimal_no)\n",
    "print(binary_no)"
   ]
  },
  {
   "cell_type": "code",
   "execution_count": 21,
   "id": "f65374a8-1f7a-488f-aba1-8514bdb8bd01",
   "metadata": {},
   "outputs": [
    {
     "name": "stdout",
     "output_type": "stream",
     "text": [
      "True\n"
     ]
    }
   ],
   "source": [
    "# 7.Convert a non-zero number to boolean.\n",
    "non_zero_no = 234\n",
    "boolean_no = bool(non_zero_no)\n",
    "print(boolean_no)\n",
    "print("
   ]
  },
  {
   "cell_type": "code",
   "execution_count": null,
   "id": "352080ff-805f-4945-9a7a-4a7396841df5",
   "metadata": {},
   "outputs": [],
   "source": []
  }
 ],
 "metadata": {
  "kernelspec": {
   "display_name": "Python 3 (ipykernel)",
   "language": "python",
   "name": "python3"
  },
  "language_info": {
   "codemirror_mode": {
    "name": "ipython",
    "version": 3
   },
   "file_extension": ".py",
   "mimetype": "text/x-python",
   "name": "python",
   "nbconvert_exporter": "python",
   "pygments_lexer": "ipython3",
   "version": "3.10.8"
  }
 },
 "nbformat": 4,
 "nbformat_minor": 5
}
