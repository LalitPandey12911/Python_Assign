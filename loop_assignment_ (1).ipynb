{
 "cells": [
  {
   "cell_type": "code",
   "execution_count": 3,
   "id": "58f1590f-c9d6-48f1-92f6-c3ad72ce96a3",
   "metadata": {},
   "outputs": [
    {
     "name": "stdout",
     "output_type": "stream",
     "text": [
      "1\n",
      "2\n",
      "3\n",
      "4\n",
      "5\n"
     ]
    }
   ],
   "source": [
    "# 1 print no. from 1 to 5 using while loop\n",
    "i = 1 \n",
    "while i<=5:\n",
    "    print(i)\n",
    "    i +=1"
   ]
  },
  {
   "cell_type": "code",
   "execution_count": 6,
   "id": "5082cfc7-95f6-4844-bcd8-944be378d8e9",
   "metadata": {},
   "outputs": [
    {
     "name": "stdout",
     "output_type": "stream",
     "text": [
      "sum of number from 1 to 10 is : 55\n"
     ]
    }
   ],
   "source": [
    "# 2 Calclate the sum of number from 1 to 10 using a while loop.\n",
    "sum = 0\n",
    "i = 1\n",
    "while i<=10:\n",
    "    sum += i\n",
    "    i+=1\n",
    "print(\"sum of number from 1 to 10 is :\",sum)"
   ]
  },
  {
   "cell_type": "code",
   "execution_count": 7,
   "id": "1d3b5ceb-7f88-4f9d-82b9-d36ec0f43ee6",
   "metadata": {},
   "outputs": [
    {
     "name": "stdout",
     "output_type": "stream",
     "text": [
      "factorial of the number is: 120\n"
     ]
    }
   ],
   "source": [
    "# 3 Calclate the factorial of a number using a for loop.\n",
    "factorial = 1\n",
    "number = 5\n",
    "while number>0:\n",
    "    factorial *= number\n",
    "    number -=1\n",
    "print(\"factorial of the number is:\",factorial)"
   ]
  },
  {
   "cell_type": "code",
   "execution_count": 11,
   "id": "1f8a20ac-893d-4402-8740-d72856983d91",
   "metadata": {},
   "outputs": [
    {
     "name": "stdout",
     "output_type": "stream",
     "text": [
      "number of vowels in the given string is : 4\n"
     ]
    }
   ],
   "source": [
    "# 4 Count the number of vowel in a string using a for loop.\n",
    "count = 0 \n",
    "my_string = \"lalitpandey\"\n",
    "for i in my_string:\n",
    "    if i=='a'  or i=='e' or i=='i' or i=='o' or i=='u':\n",
    "        count +=1\n",
    "print(\"number of vowels in the given string is :\" ,count)"
   ]
  },
  {
   "cell_type": "code",
   "execution_count": 22,
   "id": "7ac83a47-48cc-48cf-950f-0bb0ab83c28a",
   "metadata": {},
   "outputs": [
    {
     "name": "stdout",
     "output_type": "stream",
     "text": [
      "*\n",
      "**\n",
      "***\n",
      "****\n",
      "*****\n",
      "******\n",
      "*******\n",
      "********\n",
      "*********\n",
      "**********\n"
     ]
    }
   ],
   "source": [
    "# 5 Print a pattern using nested loop.\n",
    "for i in range(10):\n",
    "    for j in range(i+1):\n",
    "        print(\"*\",end=\"\")\n",
    "        j +=1\n",
    "    print()\n",
    "    i +=1"
   ]
  },
  {
   "cell_type": "code",
   "execution_count": 27,
   "id": "4d89508f-235e-4d6c-abf5-d059db1d0729",
   "metadata": {},
   "outputs": [
    {
     "name": "stdout",
     "output_type": "stream",
     "text": [
      "1\t2\t3\t4\t5\t6\t7\t8\t9\t10\t\n",
      "2\t4\t6\t8\t10\t12\t14\t16\t18\t20\t\n",
      "3\t6\t9\t12\t15\t18\t21\t24\t27\t30\t\n",
      "4\t8\t12\t16\t20\t24\t28\t32\t36\t40\t\n",
      "5\t10\t15\t20\t25\t30\t35\t40\t45\t50\t\n",
      "6\t12\t18\t24\t30\t36\t42\t48\t54\t60\t\n",
      "7\t14\t21\t28\t35\t42\t49\t56\t63\t70\t\n",
      "8\t16\t24\t32\t40\t48\t56\t64\t72\t80\t\n",
      "9\t18\t27\t36\t45\t54\t63\t72\t81\t90\t\n",
      "10\t20\t30\t40\t50\t60\t70\t80\t90\t100\t\n"
     ]
    }
   ],
   "source": [
    "# 6 Generate a multiplicaiton table using nested loops.\n",
    "for i in range(1,11):\n",
    "    for j in range(i,10*i + 1,i):\n",
    "        print(j,end=\"\\t\")\n",
    "    print()\n"
   ]
  },
  {
   "cell_type": "code",
   "execution_count": null,
   "id": "795c48f2-23f0-4277-84ec-4a77d58ba9e7",
   "metadata": {},
   "outputs": [],
   "source": []
  }
 ],
 "metadata": {
  "kernelspec": {
   "display_name": "Python 3 (ipykernel)",
   "language": "python",
   "name": "python3"
  },
  "language_info": {
   "codemirror_mode": {
    "name": "ipython",
    "version": 3
   },
   "file_extension": ".py",
   "mimetype": "text/x-python",
   "name": "python",
   "nbconvert_exporter": "python",
   "pygments_lexer": "ipython3",
   "version": "3.10.8"
  }
 },
 "nbformat": 4,
 "nbformat_minor": 5
}
